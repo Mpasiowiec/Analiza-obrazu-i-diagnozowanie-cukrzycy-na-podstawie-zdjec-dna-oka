{
 "cells": [
  {
   "cell_type": "code",
   "execution_count": 30,
   "metadata": {},
   "outputs": [],
   "source": [
    "import glob\n",
    "import os\n",
    "import numpy as np\n",
    "import matplotlib.pyplot as plt\n",
    "import torch\n",
    "import torch.nn as nn\n",
    "from torchvision import datasets, transforms, utils"
   ]
  },
  {
   "cell_type": "code",
   "execution_count": 31,
   "metadata": {},
   "outputs": [
    {
     "name": "stderr",
     "output_type": "stream",
     "text": [
      "Using cache found in C:\\Users\\micha/.cache\\torch\\hub\\pytorch_vision_v0.10.0\n",
      "c:\\Users\\micha\\anaconda3\\envs\\pytorch\\lib\\site-packages\\torchvision\\models\\_utils.py:208: UserWarning: The parameter 'pretrained' is deprecated since 0.13 and may be removed in the future, please use 'weights' instead.\n",
      "  warnings.warn(\n",
      "c:\\Users\\micha\\anaconda3\\envs\\pytorch\\lib\\site-packages\\torchvision\\models\\_utils.py:223: UserWarning: Arguments other than a weight enum or `None` for 'weights' are deprecated since 0.13 and may be removed in the future. The current behavior is equivalent to passing `weights=None`.\n",
      "  warnings.warn(msg)\n"
     ]
    }
   ],
   "source": [
    "img_size = (300, 300)\n",
    "device = torch.device(\"cuda:0\" if torch.cuda.is_available() else \"cpu\")\n",
    "data_transforms = {\n",
    "    'raw': transforms.Compose([\n",
    "        transforms.Resize(img_size),\n",
    "        transforms.ToTensor(),\n",
    "        transforms.Normalize([0.3998, 0.1676, 0.0636], [0.2762, 0.1356, 0.0666])\n",
    "    ]),\n",
    "    'prep': transforms.Compose([\n",
    "        transforms.Resize(img_size),\n",
    "        transforms.ToTensor(),\n",
    "        transforms.Normalize([0.5023, 0.5017, 0.5019], [0.1245, 0.0934, 0.0581])\n",
    "    ]),\n",
    "    'vessel': transforms.Compose([\n",
    "        transforms.Resize(img_size),\n",
    "        transforms.ToTensor(),\n",
    "    ])}\n",
    "\n",
    "model = torch.hub.load('pytorch/vision:v0.10.0', 'densenet121', pretrained=False)\n",
    "num_ftrs = model.classifier.in_features\n",
    "model.classifier  = nn.Sequential(nn.Linear(num_ftrs, 500),nn.Linear(500,  2))"
   ]
  },
  {
   "cell_type": "code",
   "execution_count": 32,
   "metadata": {},
   "outputs": [
    {
     "name": "stdout",
     "output_type": "stream",
     "text": [
      "Model: densenet121_e50_s300_b14, Accuracy: 84.48 %\n",
      "Model: densenet121_prep_e50_s300_b14, Accuracy: 91.38 %\n",
      "Model: densenet121_vessel_e50_s300_b14, Accuracy: 80.00 %\n"
     ]
    }
   ],
   "source": [
    "for path in glob.glob('./models/*.pt'):\n",
    "    \n",
    "    if path.split('\\\\')[-1].split('.')[0].split('_')[1] == 'prep': name = '_prep'\n",
    "    elif path.split('\\\\')[-1].split('.')[0].split('_')[1] == 'vessel': name = '_vessel'\n",
    "    else: name = '_raw'\n",
    "\n",
    "    \n",
    "    if name == '_raw': data_dir = 'data/data_m'\n",
    "    else: data_dir = 'data/data_m'+name\n",
    "\n",
    "    image_dataset = datasets.ImageFolder(os.path.join(data_dir, 'test'), data_transforms[name[1:]])\n",
    "    dataloader = torch.utils.data.DataLoader(image_dataset, batch_size=14, shuffle=True, num_workers=4)\n",
    "    dataset_size = len(image_dataset)\n",
    "\n",
    "    model.load_state_dict(torch.load(path))\n",
    "    model = model.to(device)\n",
    "    was_training = model.training\n",
    "    model.eval()\n",
    "    test_acc = 0\n",
    "    for i, data in enumerate(dataloader, 0):\n",
    "        samples, labels = data\n",
    "        with torch.no_grad():            \n",
    "            samples, labels = samples.to(device), labels.to(device)\n",
    "            output = model(samples)\n",
    "            loss = nn.CrossEntropyLoss()(output, labels)\n",
    "            pred = torch.argmax(output, dim=1)\n",
    "            correct = pred.eq(labels)\n",
    "            test_acc += torch.sum(correct.float())\n",
    "            torch.cuda.empty_cache()\n",
    "            model.train(mode=was_training)\n",
    "    print('Model: {}, Accuracy: {:.2f} %'.format(path.split('\\\\')[-1].split('.')[0], 100*test_acc/dataset_size))"
   ]
  }
 ],
 "metadata": {
  "kernelspec": {
   "display_name": "pytorch",
   "language": "python",
   "name": "python3"
  },
  "language_info": {
   "codemirror_mode": {
    "name": "ipython",
    "version": 3
   },
   "file_extension": ".py",
   "mimetype": "text/x-python",
   "name": "python",
   "nbconvert_exporter": "python",
   "pygments_lexer": "ipython3",
   "version": "3.9.16"
  },
  "orig_nbformat": 4
 },
 "nbformat": 4,
 "nbformat_minor": 2
}
