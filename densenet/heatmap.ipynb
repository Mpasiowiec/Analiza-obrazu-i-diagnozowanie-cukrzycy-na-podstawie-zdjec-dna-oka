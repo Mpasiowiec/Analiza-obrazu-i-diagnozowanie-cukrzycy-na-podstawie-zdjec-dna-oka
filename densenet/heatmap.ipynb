{
 "cells": [
  {
   "cell_type": "code",
   "execution_count": 1,
   "metadata": {},
   "outputs": [],
   "source": [
    "import os\n",
    "import numpy as np\n",
    "import cv2\n",
    "import random\n",
    "import glob\n",
    "import matplotlib.pyplot as plt\n",
    "from PIL import Image, ImageDraw, ImageFont\n",
    "\n",
    "import torch\n",
    "import torch.nn as nn\n",
    "import torchvision\n",
    "import torchvision.transforms as transforms\n",
    "\n",
    "\n",
    "\n",
    "class_names=['control', 'diabetic']\n"
   ]
  },
  {
   "cell_type": "code",
   "execution_count": 2,
   "metadata": {},
   "outputs": [],
   "source": [
    "class HeatmapGenerator ():\n",
    "    \n",
    "    #---- Initialize heatmap generator\n",
    "    #---- pathModel - path to the trained densenet model\n",
    "    #---- nnArchitecture - architecture name DENSE-NET121, DENSE-NET169, DENSE-NET201\n",
    "    #---- nnClassCount - class count, 14 for chxray-14\n",
    "\n",
    " \n",
    "    def __init__ (self, pathModel, img_size, mean=0, std=0, nnClassCount=2):\n",
    "       \n",
    "        #---- Initialize the network\n",
    "        model = torchvision.models.densenet121(pretrained=False)\n",
    "        num_ftrs = model.classifier.in_features\n",
    "        model.classifier  = nn.Sequential(nn.Linear(num_ftrs, 500),nn.Linear(500,  nnClassCount))\n",
    "        model = model.cuda()\n",
    "        model.load_state_dict(torch.load(pathModel))\n",
    "\n",
    "        self.model = model\n",
    "        self.model.eval()\n",
    "        \n",
    "        #---- Initialize the weights\n",
    "        self.weights = list(self.model.features.parameters())[-2]\n",
    "\n",
    "        #---- Initialize the image transform\n",
    "        normalize = transforms.Normalize(mean, std)\n",
    "        transformList = []\n",
    "        transformList.append(transforms.Resize((img_size, img_size)))\n",
    "        transformList.append(transforms.ToTensor())\n",
    "        if not (mean==0 and std==0): transformList.append(normalize)  \n",
    "        self.transformSequence = transforms.Compose(transformList)\n",
    "    \n",
    "    #--------------------------------------------------------------------------------\n",
    "     \n",
    "    def generate (self, pathImageFile, save_img, transCrop):\n",
    "        \n",
    "        #---- Load image, transform, convert \n",
    "        with torch.no_grad():\n",
    " \n",
    "            imageData = Image.open(pathImageFile).convert('RGB')\n",
    "            imageData = self.transformSequence(imageData)\n",
    "            imageData = imageData.unsqueeze_(0)\n",
    "            if torch.cuda.is_available():\n",
    "                imageData = imageData.cuda()\n",
    "            l = self.model(imageData)\n",
    "            output = self.model.features(imageData)\n",
    "            label = class_names[torch.max(l,1)[1]]\n",
    "            #---- Generate heatmap\n",
    "            heatmap = None\n",
    "            for i in range (0, len(self.weights)):\n",
    "                map = output[0,i,:,:]\n",
    "                if i == 0: heatmap = self.weights[i] * map\n",
    "                else: heatmap += self.weights[i] * map\n",
    "                npHeatmap = heatmap.cpu().data.numpy()\n",
    "\n",
    "        #---- Blend original and heatmap \n",
    "                \n",
    "        imgOriginal = cv2.imread(pathImageFile)\n",
    "        # imgOriginal = cv2.resize(imgOriginal, (transCrop, transCrop))\n",
    "        imgOriginal = cv2.cvtColor(imgOriginal, cv2.COLOR_BGR2RGB)\n",
    "        cam = npHeatmap / np.max(npHeatmap)\n",
    "        cam = cv2.resize(cam, (imgOriginal.shape[1],imgOriginal.shape[0]))\n",
    "        heatmap = cv2.applyColorMap(np.uint8(255*cam), cv2.COLORMAP_JET)\n",
    "        img = cv2.addWeighted(imgOriginal, .5, heatmap, .5, 0)            \n",
    "        img = cv2.cvtColor(img, cv2.COLOR_BGR2RGB)\n",
    "        heatmap = cv2.applyColorMap(np.uint8(255*cam), cv2.COLOR_BGR2RGB)\n",
    "        \n",
    "\n",
    "        h,w = img.shape[0:2] #np.moveaxis(imgOriginal, 0, 2)\n",
    "        imgOriginal = Image.fromarray(imgOriginal)\n",
    "        heatmap = Image.fromarray(heatmap)\n",
    "        blend = Image.fromarray(img)\n",
    "\n",
    "        target = Image.new('RGB', (3 * w, h))\n",
    "        target.paste(imgOriginal, box = (0, 0))\n",
    "        target.paste(heatmap, box = (w, 0))\n",
    "        target.paste(blend, box = (2 * w, 0))\n",
    "        \n",
    "        if pathImageFile.split('\\\\')[-1].split('.')[0].split('_')[1]=='c' or pathImageFile.split('\\\\')[-1].split('.')[0].split('_')[-1] in ['h', 'N']:\n",
    "            true_leb = 'control'\n",
    "        else:\n",
    "            true_leb = 'diabetic'\n",
    "\n",
    "        I1 = ImageDraw.Draw(target)\n",
    "        font = ImageFont.truetype('heatmap/FreeMono.ttf', int(w/15))\n",
    "        I1.text((w, 36), 'pred label: '+label+('\\nreal label: '+true_leb ), font=font, fill='black')\n",
    "        target.save(os.path.join(save_img, pathImageFile.split('\\\\')[-1].split('.')[0])+'.jpg')\n",
    "\n",
    "        # target.save(os.path.join(save_img, \"result_{}.png\".format(res_id)))\n",
    "        # ff = plt.figure()\n",
    "        # plt.title('predicted label: '+label+('\\nreal label: control' if pathImageFile.split('\\\\')[-1].split('.')[0].split('_')[1]=='c' else '\\nreal label: diabetic'))\n",
    "        # plt.imshow(target)\n",
    "        # plt.axis('off')\n",
    "        # os.makedirs(save_img, exist_ok=True)\n",
    "        # plt.savefig(os.path.join(save_img, pathImageFile.split('\\\\')[-1].split('.')[0]))\n",
    "        # plt.close()\n",
    "        # return ff\n",
    "        \n",
    "        "
   ]
  },
  {
   "cell_type": "code",
   "execution_count": 3,
   "metadata": {},
   "outputs": [
    {
     "name": "stderr",
     "output_type": "stream",
     "text": [
      "c:\\Users\\micha\\anaconda3\\envs\\pytorch\\lib\\site-packages\\torchvision\\models\\_utils.py:208: UserWarning: The parameter 'pretrained' is deprecated since 0.13 and may be removed in the future, please use 'weights' instead.\n",
      "  warnings.warn(\n",
      "c:\\Users\\micha\\anaconda3\\envs\\pytorch\\lib\\site-packages\\torchvision\\models\\_utils.py:223: UserWarning: Arguments other than a weight enum or `None` for 'weights' are deprecated since 0.13 and may be removed in the future. The current behavior is equivalent to passing `weights=None`.\n",
      "  warnings.warn(msg)\n"
     ]
    }
   ],
   "source": [
    "listpathInputImage = glob.glob('data/data_m_vessel/test/control/*')+glob.glob('data/data_m_vessel/test/retina/*')\n",
    "# img_path = random.choice(listpathInputImage)\n",
    "pathModel = \"models/densenet121_vessel_e50_s300_b14.pt\"\n",
    "\n",
    "h = HeatmapGenerator(pathModel, 300)\n",
    "for img_path in listpathInputImage:\n",
    "    f = h.generate(img_path, 'heatmap/vessel', 300)\n",
    "f"
   ]
  },
  {
   "cell_type": "code",
   "execution_count": 4,
   "metadata": {},
   "outputs": [
    {
     "name": "stderr",
     "output_type": "stream",
     "text": [
      "c:\\Users\\micha\\anaconda3\\envs\\pytorch\\lib\\site-packages\\torchvision\\models\\_utils.py:208: UserWarning: The parameter 'pretrained' is deprecated since 0.13 and may be removed in the future, please use 'weights' instead.\n",
      "  warnings.warn(\n",
      "c:\\Users\\micha\\anaconda3\\envs\\pytorch\\lib\\site-packages\\torchvision\\models\\_utils.py:223: UserWarning: Arguments other than a weight enum or `None` for 'weights' are deprecated since 0.13 and may be removed in the future. The current behavior is equivalent to passing `weights=None`.\n",
      "  warnings.warn(msg)\n"
     ]
    }
   ],
   "source": [
    "listpathInputImage = glob.glob('data/data_m/test/control/*')+glob.glob('data/data_m/test/retina/*')\n",
    "# img_path = random.choice(listpathInputImage)\n",
    "pathModel = \"models/densenet121_e50_s300_b14.pt\"\n",
    "\n",
    "h = HeatmapGenerator(pathModel, 300, [0.3998, 0.1676, 0.0636], [0.2762, 0.1356, 0.0666])\n",
    "for img_path in listpathInputImage:\n",
    "    f = h.generate(img_path, 'heatmap/raw', 300)\n",
    "f"
   ]
  },
  {
   "cell_type": "code",
   "execution_count": 5,
   "metadata": {},
   "outputs": [
    {
     "name": "stderr",
     "output_type": "stream",
     "text": [
      "c:\\Users\\micha\\anaconda3\\envs\\pytorch\\lib\\site-packages\\torchvision\\models\\_utils.py:208: UserWarning: The parameter 'pretrained' is deprecated since 0.13 and may be removed in the future, please use 'weights' instead.\n",
      "  warnings.warn(\n",
      "c:\\Users\\micha\\anaconda3\\envs\\pytorch\\lib\\site-packages\\torchvision\\models\\_utils.py:223: UserWarning: Arguments other than a weight enum or `None` for 'weights' are deprecated since 0.13 and may be removed in the future. The current behavior is equivalent to passing `weights=None`.\n",
      "  warnings.warn(msg)\n"
     ]
    }
   ],
   "source": [
    "listpathInputImage = glob.glob('data/data_m_prep/test/control/*')+glob.glob('data_prep/test/retina/*')\n",
    "img_path = random.choice(listpathInputImage)\n",
    "pathModel = \"models/densenet121_prep_e50_s300_b14.pt\"\n",
    "\n",
    "\n",
    "h = HeatmapGenerator(pathModel, 300, [0.5023, 0.5017, 0.5019], [0.1245, 0.0934, 0.0581])\n",
    "for img_path in listpathInputImage:\n",
    "    f = h.generate(img_path, 'heatmap/prep', 300)\n",
    "f"
   ]
  }
 ],
 "metadata": {
  "kernelspec": {
   "display_name": "pytorch",
   "language": "python",
   "name": "python3"
  },
  "language_info": {
   "codemirror_mode": {
    "name": "ipython",
    "version": 3
   },
   "file_extension": ".py",
   "mimetype": "text/x-python",
   "name": "python",
   "nbconvert_exporter": "python",
   "pygments_lexer": "ipython3",
   "version": "3.9.16"
  },
  "orig_nbformat": 4
 },
 "nbformat": 4,
 "nbformat_minor": 2
}
