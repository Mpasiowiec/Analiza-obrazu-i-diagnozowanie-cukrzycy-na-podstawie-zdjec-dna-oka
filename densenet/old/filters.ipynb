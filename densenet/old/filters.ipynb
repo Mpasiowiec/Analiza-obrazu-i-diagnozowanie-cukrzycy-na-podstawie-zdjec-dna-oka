{
 "cells": [
  {
   "cell_type": "code",
   "execution_count": null,
   "metadata": {},
   "outputs": [],
   "source": [
    "import numpy as np\n",
    "import matplotlib.pyplot as plt\n",
    "import torchvision\n",
    "import torch\n",
    "import torch.nn as nn\n",
    "from torchvision import utils\n",
    "def visTensor(tensor, ch=0, allkernels=False, nrow=8, padding=1): \n",
    "    n,c,w,h = tensor.shape\n",
    "    if allkernels: tensor = tensor.view(n*c, -1, w, h)\n",
    "    elif c != 3: tensor = tensor[:,ch,:,:].unsqueeze(dim=1)\n",
    "    rows = np.min((tensor.shape[0] // nrow + 1, 64))    \n",
    "    grid = utils.make_grid(tensor, nrow=nrow, normalize=True, padding=padding)\n",
    "    plt.figure( figsize=(nrow,rows) )\n",
    "    plt.imshow(grid.numpy().transpose((1, 2, 0)))\n",
    "\n",
    "pathModel = \"models/densenet_100epochs_data_norm_randomCropRotation.pt\"\n",
    "\n",
    "model = torchvision.models.densenet121(pretrained=False)\n",
    "num_ftrs = model.classifier.in_features\n",
    "model.classifier  = nn.Sequential(nn.Linear(num_ftrs, 500),nn.Linear(500,  2))\n",
    "model = model.cuda()\n",
    "model.load_state_dict(torch.load(pathModel))\n",
    "model = model.eval()\n",
    "\n",
    "\n",
    "filter = model.features[0].weight.data.clone()\n",
    "visTensor(filter.cpu(), ch=0, allkernels=False)\n",
    "plt.axis('off')\n",
    "plt.ioff()\n",
    "plt.show()"
   ]
  },
  {
   "cell_type": "code",
   "execution_count": null,
   "metadata": {},
   "outputs": [],
   "source": [
    "#covolucja z pierwszej denseleyer z pierwszego denseblockz\n",
    "type(list(list(model.features[4].children())[0].children())[2]) == torch.nn.modules.conv.Conv2d"
   ]
  },
  {
   "cell_type": "code",
   "execution_count": null,
   "metadata": {},
   "outputs": [],
   "source": [
    "model.features[0].weight.data.shape"
   ]
  },
  {
   "cell_type": "code",
   "execution_count": null,
   "metadata": {},
   "outputs": [],
   "source": [
    "list(list(model.features[4].children())[4].children())[2]"
   ]
  },
  {
   "cell_type": "code",
   "execution_count": null,
   "metadata": {},
   "outputs": [],
   "source": [
    "list(list(model.features[4].children())[0].children())[-1].weight.data.shape"
   ]
  },
  {
   "cell_type": "code",
   "execution_count": null,
   "metadata": {},
   "outputs": [],
   "source": [
    "\n",
    "filter = list(list(model.features[4].children())[0].children())[-1].weight.data.clone()\n",
    "visTensor(filter.cpu(), ch=0, allkernels=False)\n",
    "plt.axis('off')\n",
    "plt.ioff()\n",
    "plt.show()"
   ]
  },
  {
   "cell_type": "code",
   "execution_count": null,
   "metadata": {},
   "outputs": [],
   "source": [
    "list_weight = []\n",
    "for i in model.features:\n",
    "    if type(i) == torch.nn.modules.conv.Conv2d:\n",
    "        list_weight.append(i.weight.data.clone())\n",
    "    if type(i) in [torchvision.models.densenet._DenseBlock, torchvision.models.densenet._Transition]:\n",
    "        for j in list(i.children()):\n",
    "            if type(j) == torch.nn.modules.conv.Conv2d:\n",
    "                list_weight.append(j.weight.data.clone())\n",
    "            elif type(j) == torchvision.models.densenet._DenseLayer:\n",
    "                for k in list(j.children()):\n",
    "                    if type(k) == torch.nn.modules.conv.Conv2d:\n",
    "                        list_weight.append(k.weight.data.clone())"
   ]
  },
  {
   "cell_type": "code",
   "execution_count": 61,
   "metadata": {},
   "outputs": [
    {
     "name": "stderr",
     "output_type": "stream",
     "text": [
      "C:\\Users\\micha\\AppData\\Local\\Temp\\ipykernel_10680\\1798909486.py:13: RuntimeWarning: More than 20 figures have been opened. Figures created through the pyplot interface (`matplotlib.pyplot.figure`) are retained until explicitly closed and may consume too much memory. (To control this warning, see the rcParam `figure.max_open_warning`). Consider using `matplotlib.pyplot.close()`.\n",
      "  plt.figure( figsize=(nrow,rows) )\n"
     ]
    }
   ],
   "source": [
    "name=1\n",
    "for filter in list_weight:\n",
    "    visTensor(filter.cpu(), ch=0, allkernels=False)\n",
    "    plt.axis('off')\n",
    "    plt.ioff()\n",
    "    plt.savefig('filters/'+str(name))\n",
    "    name+=1"
   ]
  }
 ],
 "metadata": {
  "kernelspec": {
   "display_name": "base",
   "language": "python",
   "name": "python3"
  },
  "language_info": {
   "codemirror_mode": {
    "name": "ipython",
    "version": 3
   },
   "file_extension": ".py",
   "mimetype": "text/x-python",
   "name": "python",
   "nbconvert_exporter": "python",
   "pygments_lexer": "ipython3",
   "version": "3.9.16"
  },
  "orig_nbformat": 4
 },
 "nbformat": 4,
 "nbformat_minor": 2
}
